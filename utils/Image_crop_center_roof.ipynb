{
  "cells": [
    {
      "attachments": {},
      "cell_type": "markdown",
      "metadata": {
        "id": "z5cvBNfAfELq"
      },
      "source": [
        "## Image Center Roof Crop Notebook"
      ]
    },
    {
      "attachments": {},
      "cell_type": "markdown",
      "metadata": {},
      "source": [
        "Authors: Shaurya Tripathi, Shiva Srivastava"
      ]
    },
    {
      "cell_type": "code",
      "execution_count": null,
      "metadata": {},
      "outputs": [],
      "source": [
        "# This files dependencies\n",
        "from roboflow import Roboflow\n",
        "import os\n",
        "import cv2\n",
        "from PIL import Image\n",
        "import numpy as np"
      ]
    },
    {
      "cell_type": "markdown",
      "metadata": {},
      "source": [
        "#### Convert png files to jpeg files"
      ]
    },
    {
      "cell_type": "code",
      "execution_count": null,
      "metadata": {},
      "outputs": [],
      "source": [
        "input_directory = './PNGS'\n",
        "output_directory = './JPEGS'\n",
        "\n",
        "os.makedirs(output_directory, exist_ok=True)\n",
        "files = [f for f in os.listdir(input_directory) if not(os.path.isdir(f))]\n",
        "\n",
        "for png_file in files:\n",
        "    png_path = os.path.join(input_directory, png_file)\n",
        "    image = Image.open(png_path)\n",
        "    print(png_file)\n",
        "\n",
        "    jpeg_filename = os.path.splitext(png_file)[0] + '.jpg'\n",
        "    jpeg_path = os.path.join(output_directory, jpeg_filename)\n",
        "\n",
        "    image = image.convert(\"RGB\")\n",
        "    image.save(jpeg_path, \"JPEG\", quality=100)\n",
        "    print(\"Jpeg File saved\")\n",
        "\n",
        "print(\"Conversion completed.\")"
      ]
    },
    {
      "cell_type": "code",
      "execution_count": null,
      "metadata": {},
      "outputs": [],
      "source": [
        "# Check if image is empty\n",
        "def is_non_empty(img):\n",
        "   np.reshape(img, (-1,1))\n",
        "   u, count_unique = np.unique(img, return_counts =True)\n",
        "   \n",
        "   return count_unique.size>= 10\n"
      ]
    },
    {
      "cell_type": "markdown",
      "metadata": {},
      "source": [
        "#### Setup the Segmentation model"
      ]
    },
    {
      "cell_type": "code",
      "execution_count": null,
      "metadata": {},
      "outputs": [],
      "source": [
        "# Load Segmentation model\n",
        "## Update version number if new version of model generated\n",
        "def load_segmentation_model(api_key=\"9pyHdiM1tENb1DwODp1M\", project_name=\"arkasegmentationproject\", version=4):\n",
        "  from roboflow import Roboflow\n",
        "  rf = Roboflow(api_key=api_key)\n",
        "  project = rf.workspace().project(project_name)\n",
        "  seg_model = project.version(version).model\n",
        "  return seg_model"
      ]
    },
    {
      "cell_type": "code",
      "execution_count": null,
      "metadata": {},
      "outputs": [],
      "source": [
        "# Return prediction\n",
        "def outline_pred_and_json(in_path, seg_model):\n",
        "  return seg_model.predict(in_path, confidence=50).json()"
      ]
    },
    {
      "cell_type": "code",
      "execution_count": null,
      "metadata": {},
      "outputs": [],
      "source": [
        "def cut_bounding_box(img_path, seg_pred_json, out_dir, margin=15):\n",
        "  image_rgb = cv2.imread(img_path)\n",
        "  #print(img_path)\n",
        "  if(seg_pred_json[\"predictions\"] and is_non_empty(image_rgb)):\n",
        "    for bounding_box in seg_pred_json[\"predictions\"]:\n",
        "        x0 = bounding_box['x'] - bounding_box['width'] / 2 - margin\n",
        "        x1 = bounding_box['x'] + bounding_box['width'] / 2 + margin\n",
        "        y0 = bounding_box['y'] - bounding_box['height'] / 2 - margin\n",
        "        y1 = bounding_box['y'] + bounding_box['height'] / 2 + margin\n",
        "\n",
        "        start_point = (int(x0), int(y0))\n",
        "        end_point = (int(x1), int(y1))\n",
        "\n",
        "        center_roof_bb = image_rgb[int(y0):int(y1), int(x0):int(x1)]\n",
        "\n",
        "    os.makedirs(out_dir, exist_ok=True)\n",
        "    f_name = os.path.basename(img_path)\n",
        "    out_path = out_dir+f_name\n",
        "    #print(out_path)\n",
        "    if(is_non_empty(center_roof_bb)):\n",
        "        cv2.imwrite(out_path, center_roof_bb)\n",
        "    #display(Image(filename=out_path))"
      ]
    },
    {
      "cell_type": "markdown",
      "metadata": {},
      "source": [
        "#### Now get the center roof crop"
      ]
    },
    {
      "cell_type": "code",
      "execution_count": null,
      "metadata": {},
      "outputs": [],
      "source": [
        "seg_model = load_segmentation_model()\n"
      ]
    },
    {
      "cell_type": "code",
      "execution_count": null,
      "metadata": {},
      "outputs": [],
      "source": [
        "input_directory = './JPEGS'\n",
        "output_directory = './CROPS/'\n",
        "\n",
        "os.makedirs(output_directory, exist_ok=True)\n",
        "\n",
        "jpeg_files = [f for f in os.listdir(input_directory)]\n",
        "#print(jpeg_files)\n",
        "\n",
        "\n",
        "for file in jpeg_files:\n",
        "    img_path = os.path.join(input_directory, file)\n",
        "    seg_json = outline_pred_and_json(img_path, seg_model)\n",
        "    cut_bounding_box(img_path, seg_json, output_directory)\n",
        "\n",
        "print(\"Center Roof crops done!\")"
      ]
    }
  ],
  "metadata": {
    "colab": {
      "provenance": []
    },
    "kernelspec": {
      "display_name": "Python 3",
      "name": "python3"
    },
    "language_info": {
      "codemirror_mode": {
        "name": "ipython",
        "version": 3
      },
      "file_extension": ".py",
      "mimetype": "text/x-python",
      "name": "python",
      "nbconvert_exporter": "python",
      "pygments_lexer": "ipython3",
      "version": "3.9.5"
    }
  },
  "nbformat": 4,
  "nbformat_minor": 0
}
