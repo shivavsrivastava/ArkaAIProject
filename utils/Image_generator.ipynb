{
  "cells": [
    {
      "attachments": {},
      "cell_type": "markdown",
      "metadata": {
        "id": "z5cvBNfAfELq"
      },
      "source": [
        "## Image Generator"
      ]
    },
    {
      "attachments": {},
      "cell_type": "markdown",
      "metadata": {},
      "source": [
        "This notebook extracts addresses from given street addresses and generates rooftop images. These images are used to generate dataset"
      ]
    },
    {
      "attachments": {},
      "cell_type": "markdown",
      "metadata": {},
      "source": [
        "Authors: Shaurya Tripathi, Shiva Srivastava"
      ]
    },
    {
      "cell_type": "code",
      "execution_count": null,
      "metadata": {},
      "outputs": [],
      "source": [
        "\n",
        "from geopy.geocoders import Nominatim\n",
        "import pandas as pd\n",
        "import geopandas as gpd\n",
        "import numpy as np\n",
        "import folium\n",
        "from folium import Marker\n",
        "import warnings \n",
        "import requests\n",
        "from PIL import Image\n",
        "import IPython.display as display\n",
        "warnings.filterwarnings('ignore')"
      ]
    },
    {
      "attachments": {},
      "cell_type": "markdown",
      "metadata": {},
      "source": [
        "#### Functions to get co-ordinates and address extractor"
      ]
    },
    {
      "cell_type": "code",
      "execution_count": null,
      "metadata": {},
      "outputs": [],
      "source": [
        "# Get coordinates function. Key is connected to a user\n",
        "def get_coordinates(address):\n",
        "    base_url = \"https://maps.googleapis.com/maps/api/geocode/json\"\n",
        "    params = {\n",
        "        \"address\": address,\n",
        "        \"key\": \"Your key\"\n",
        "    }\n",
        "    try:\n",
        "        response = requests.get(base_url, params=params)\n",
        "        data = response.json()\n",
        "        \n",
        "        if data[\"status\"] == \"OK\":\n",
        "            result = data[\"results\"][0]\n",
        "            location = result[\"geometry\"][\"location\"]\n",
        "            latitude = location[\"lat\"]\n",
        "            longitude = location[\"lng\"]\n",
        "            return latitude, longitude\n",
        "        else:\n",
        "            error_message = data[\"error_message\"] if \"error_message\" in data else \"Unknown error\"\n",
        "            print(f\"Error: {error_message}\")\n",
        "            return None\n",
        "    except requests.exceptions.RequestException as e:\n",
        "        print(f\"Request Exception: {e}\")\n",
        "        return None"
      ]
    },
    {
      "cell_type": "code",
      "execution_count": null,
      "metadata": {},
      "outputs": [],
      "source": [
        "# Reverse geocoding\n",
        "def get_formatted_addr(lat, lng):\n",
        "    base_url = \"https://maps.googleapis.com/maps/api/geocode/json\"\n",
        "    params = {\n",
        "        \"latlng\": str(lat) + \",\" + str(lng),\n",
        "        \"key\": \"Your key\"\n",
        "    }\n",
        "    try:\n",
        "        response = requests.get(base_url, params=params)\n",
        "        data = response.json()\n",
        "        \n",
        "        if data[\"status\"] == \"OK\":\n",
        "            result = data[\"results\"][0]\n",
        "            addr = result[\"formatted_address\"]\n",
        "            location = result[\"geometry\"][\"location\"]\n",
        "            latitude = location[\"lat\"]\n",
        "            longitude = location[\"lng\"]\n",
        "            #print(addr)\n",
        "            #print(location)\n",
        "            #print(latitude)\n",
        "            #print(longitude)\n",
        "            return addr, latitude, longitude\n",
        "        else:\n",
        "            error_message = data[\"error_message\"] if \"error_message\" in data else \"Unknown error\"\n",
        "            print(f\"Error: {error_message}\")\n",
        "            return None\n",
        "    except requests.exceptions.RequestException as e:\n",
        "        print(f\"Request Exception: {e}\")\n",
        "        return None"
      ]
    },
    {
      "cell_type": "code",
      "execution_count": null,
      "metadata": {},
      "outputs": [],
      "source": [
        "## Function get_static_map tp get the fixed size map\n",
        "def get_static_map(latitude, longitude, filename, zoom=20, size=\"1024x1024\", maptype=\"satellite\", key=\"key\"):\n",
        "    base_url = \"https://maps.googleapis.com/maps/api/staticmap\"\n",
        "    params = {\n",
        "        \"center\": f\"{latitude},{longitude}\",\n",
        "        \"zoom\": zoom,\n",
        "        \"size\": size,\n",
        "        \"maptype\": maptype,\n",
        "        \"key\": key\n",
        "    }\n",
        "    response = requests.get(base_url, params=params)\n",
        "    if response.status_code == 200:\n",
        "        image_data = response.content\n",
        "        with open(filename, \"wb\") as f:\n",
        "            f.write(image_data)\n",
        "        #print(\"Satellite image saved as satellite_image.png\")\n",
        "    else:\n",
        "        print(\"Failed to retrieve the satellite image.\")"
      ]
    },
    {
      "cell_type": "code",
      "execution_count": null,
      "metadata": {},
      "outputs": [],
      "source": [
        "def print_map(address, filename):\n",
        "\n",
        "    latitude, longitude = get_coordinates(address)\n",
        "\n",
        "    get_static_map(latitude, longitude, filename)\n",
        "\n",
        "    image = Image.open(filename)\n",
        "\n",
        "    # Display the image in Jupyter Notebook\n",
        "    display.display(image)"
      ]
    },
    {
      "cell_type": "code",
      "execution_count": null,
      "metadata": {},
      "outputs": [],
      "source": [
        "def create_address_csv(df, csv_name, loop_count):\n",
        "    street_list = df['Address'].unique().tolist()\n",
        "    num_streets = len(street_list)\n",
        "    \n",
        "    temp_list=[]\n",
        "    # Loop through each street and get house address\n",
        "    for i in range(num_streets):\n",
        "        street = street_list[i]\n",
        "        print(street)\n",
        "        lat, long = get_coordinates(street)\n",
        "        address, latitude, longitude = get_formatted_addr(lat, long)\n",
        "        temp_list.append(get_formatted_addr(lat, long))\n",
        "        #print(temp_list)\n",
        "        \n",
        "        for j in range(loop_count):\n",
        "            latitude += 0.0001\n",
        "            longitude += 0.0001\n",
        "            temp_list.append(get_formatted_addr(latitude, longitude))\n",
        "            \n",
        "\n",
        "    # drop duplicates\n",
        "    df_temp = pd.DataFrame(temp_list, columns=['Address', 'Latitude', 'Longitude'])\n",
        "    df_temp = df_temp.drop_duplicates(subset=['Address'])\n",
        "    df_temp.to_csv(csv_name)   "
      ]
    },
    {
      "cell_type": "code",
      "execution_count": null,
      "metadata": {},
      "outputs": [],
      "source": [
        "def generate_images(csv, filepath, filename):\n",
        "    df = pd.read_csv(csv)\n",
        "    num = len(df)\n",
        "    for i in range(num):\n",
        "        lat = df.iloc[i]['Latitude']\n",
        "        long = df.iloc[i]['Longitude']\n",
        "        get_static_map(lat, long, filepath+filename+\"_\" + str(i) + \".png\")\n",
        "        #print(lat)\n",
        "    print(\"Done Generating images.\")\n"
      ]
    },
    {
      "attachments": {},
      "cell_type": "markdown",
      "metadata": {},
      "source": [
        "#### Make dataframes city street list csv\n"
      ]
    },
    {
      "cell_type": "code",
      "execution_count": null,
      "metadata": {},
      "outputs": [],
      "source": [
        "# Creat a dataframe of Saratoga street addresses\n",
        "# Created Saratoga.csv from https://geographic.org/streetview/usa/ca/saratoga.html\n",
        "df_saratoga = pd.read_csv('../data/Saratoga.csv', delimiter=\"\\,\", header=0)\n",
        "df_saratoga[\"Address\"] = df_saratoga[[\"address2\", \"city\", \"state\"]].apply(lambda x: \", \".join(x), axis=1)\n",
        "df_saratoga.drop(['address1', 'address2', 'state', 'city'], axis=1, inplace=True)\n",
        "df_saratoga.head()\n"
      ]
    },
    {
      "cell_type": "code",
      "execution_count": null,
      "metadata": {},
      "outputs": [],
      "source": [
        "# Creat a dataframe of Fremont street addresses\n",
        "df_fremont = pd.read_csv('../data/Fremont.csv', delimiter=\"\\,\", header=0)\n",
        "df_fremont[\"Address\"] = df_fremont[[\"address2\", \"city\", \"state\"]].apply(lambda x: \", \".join(x), axis=1)\n",
        "df_fremont.drop(['address1', 'address2', 'state', 'city'], axis=1, inplace=True)\n",
        "df_fremont.head()"
      ]
    },
    {
      "cell_type": "code",
      "execution_count": null,
      "metadata": {},
      "outputs": [],
      "source": [
        "# Creat a dataframe of Fremont street addresses\n",
        "df_cupertino = pd.read_csv('../data/Cupertino.csv', delimiter=\"\\,\", header=0)\n",
        "df_cupertino[\"Address\"] = df_cupertino[[\"address2\", \"city\", \"state\"]].apply(lambda x: \", \".join(x), axis=1)\n",
        "df_cupertino.drop(['address1', 'address2', 'state', 'city'], axis=1, inplace=True)\n",
        "df_cupertino.head()"
      ]
    },
    {
      "cell_type": "code",
      "execution_count": null,
      "metadata": {},
      "outputs": [],
      "source": [
        "# Creat a dataframe of Fremont street addresses\n",
        "# df_test = pd.read_csv('./test.csv', delimiter=\"\\,\", header=0)\n",
        "# df_test[\"Address\"] = df_test[[\"address2\", \"city\", \"state\"]].apply(lambda x: \", \".join(x), axis=1)\n",
        "# df_test.drop(['address1', 'address2', 'state', 'city'], axis=1, inplace=True)\n",
        "# df_test.head()"
      ]
    },
    {
      "attachments": {},
      "cell_type": "markdown",
      "metadata": {},
      "source": [
        "#### Create csv files of home addresses, latitude and longitude"
      ]
    },
    {
      "cell_type": "code",
      "execution_count": null,
      "metadata": {},
      "outputs": [],
      "source": [
        "create_address_csv(df_test, \"test_home_addresses.csv\", 2)"
      ]
    },
    {
      "cell_type": "code",
      "execution_count": null,
      "metadata": {},
      "outputs": [],
      "source": [
        "generate_images(\"test_home_addresses.csv\", \"OUT_DIR\", \"temp\")"
      ]
    },
    {
      "cell_type": "code",
      "execution_count": null,
      "metadata": {},
      "outputs": [],
      "source": [
        "create_address_csv(df_saratoga, \"saratoga_addresses.csv\", 4)"
      ]
    },
    {
      "cell_type": "code",
      "execution_count": null,
      "metadata": {},
      "outputs": [],
      "source": [
        "create_address_csv(df_fremont, \"fremont_addresses.csv\", 2)"
      ]
    },
    {
      "cell_type": "code",
      "execution_count": null,
      "metadata": {},
      "outputs": [],
      "source": [
        "create_address_csv(df_cupertino, \"cupertino_addresses.csv\", 3)"
      ]
    },
    {
      "cell_type": "code",
      "execution_count": null,
      "metadata": {},
      "outputs": [],
      "source": [
        "generate_images(\"saratoga_addresses.csv\", \"OUT_DIR\", \"Saratoga\")"
      ]
    },
    {
      "cell_type": "code",
      "execution_count": null,
      "metadata": {},
      "outputs": [],
      "source": [
        "generate_images(\"cupertino_addresses.csv\", \"OUT_DIR\", \"Cupertino\")"
      ]
    },
    {
      "cell_type": "code",
      "execution_count": null,
      "metadata": {},
      "outputs": [],
      "source": [
        "generate_images(\"fremont_addresses.csv\", \"OUT_DIR\", \"Fremont\")"
      ]
    }
  ],
  "metadata": {
    "colab": {
      "provenance": []
    },
    "kernelspec": {
      "display_name": "Python 3",
      "name": "python3"
    },
    "language_info": {
      "codemirror_mode": {
        "name": "ipython",
        "version": 3
      },
      "file_extension": ".py",
      "mimetype": "text/x-python",
      "name": "python",
      "nbconvert_exporter": "python",
      "pygments_lexer": "ipython3",
      "version": "3.9.13"
    }
  },
  "nbformat": 4,
  "nbformat_minor": 0
}
