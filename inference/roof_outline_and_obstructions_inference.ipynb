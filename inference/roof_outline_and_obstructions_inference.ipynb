{
  "cells": [
    {
      "cell_type": "markdown",
      "metadata": {
        "colab_type": "text",
        "id": "view-in-github"
      },
      "source": [
        "<a href=\"https://colab.research.google.com/github/ArkaEnergyAI/ArkaAIProject/blob/main/inference/roof_outline_and_obstructions_inference.ipynb\" target=\"_parent\"><img src=\"https://colab.research.google.com/assets/colab-badge.svg\" alt=\"Open In Colab\"/></a>"
      ]
    },
    {
      "cell_type": "markdown",
      "metadata": {
        "id": "oe9vkEvFABbN"
      },
      "source": [
        "# Roof outline and Obstructions Inference Notebook"
      ]
    },
    {
      "cell_type": "markdown",
      "metadata": {
        "id": "ePhekVcSqUbD"
      },
      "source": [
        "## This notebook shows how to run inference to get center roof outline & obstructions bounding boxes"
      ]
    },
    {
      "cell_type": "markdown",
      "metadata": {
        "id": "R3thfUIuqUbD"
      },
      "source": [
        "## **Authors**\n",
        "**Ashwin Sarathy**\n",
        ": Worked extensively on dataset building & Simplification Algorithm\n",
        "\n",
        "**Shaurya Tripathi**\n",
        ": Worked on Google Image Generation, json update\n",
        "\n",
        "**Shiva Srivastava**\n",
        ": Concieved this inference flow, trained segmentation and detection models"
      ]
    },
    {
      "cell_type": "markdown",
      "metadata": {
        "id": "7htZWm2gqUbE"
      },
      "source": [
        "## Roboflow used for dataset generation & versioning, model versioning."
      ]
    },
    {
      "cell_type": "markdown",
      "metadata": {
        "id": "2ssYv4vgqUbE"
      },
      "source": [
        "### Roboflow install"
      ]
    },
    {
      "cell_type": "code",
      "execution_count": null,
      "metadata": {
        "id": "KzYwYkd9QiZV"
      },
      "outputs": [],
      "source": [
        "# Execute this cell once to install roboflow\n",
        "!pip install roboflow\n",
        "from IPython import display\n",
        "display.clear_output()"
      ]
    },
    {
      "cell_type": "markdown",
      "metadata": {
        "id": "8ysEkgqxqUbE"
      },
      "source": [
        "##### Other miscellaneous imports"
      ]
    },
    {
      "cell_type": "code",
      "execution_count": null,
      "metadata": {
        "id": "Ep-brCR7QiZW"
      },
      "outputs": [],
      "source": [
        "# Bunch of imports\n",
        "from roboflow import Roboflow\n",
        "import os\n",
        "from IPython.display import display, Image\n",
        "import cv2\n",
        "import matplotlib.pyplot as plt\n",
        "import numpy as np\n",
        "import math\n",
        "import json\n",
        "from IPython.lib.display import exists\n",
        "from PIL import Image\n",
        "import time"
      ]
    },
    {
      "cell_type": "markdown",
      "metadata": {},
      "source": [
        "##### General house keeping - declaring all paths here"
      ]
    },
    {
      "cell_type": "code",
      "execution_count": null,
      "metadata": {
        "colab": {
          "base_uri": "https://localhost:8080/"
        },
        "id": "CjpPg4mGKc1v",
        "outputId": "0b075b68-0610-40cc-e4fe-9239b5440213"
      },
      "outputs": [],
      "source": [
        "HOME = os.getcwd()\n",
        "print(HOME)\n",
        "RESULTS_DIR = \"../results/\"\n",
        "print(RESULTS_DIR)\n",
        "os.makedirs(RESULTS_DIR, exist_ok=True)\n",
        "IMAGES_DIR = \"../Images/\"\n",
        "print(IMAGES_DIR)\n",
        "assert(os.path.isdir(IMAGES_DIR))"
      ]
    },
    {
      "cell_type": "markdown",
      "metadata": {
        "id": "D-Q04MRWqUbF"
      },
      "source": [
        "## Functions to access Segmentation & Detection models, and Douglas Peucker Algorithm for polyline simplification"
      ]
    },
    {
      "cell_type": "markdown",
      "metadata": {
        "id": "BN3WnwGkqUbF"
      },
      "source": [
        "### YOLOv8 instance segmentation model"
      ]
    },
    {
      "cell_type": "markdown",
      "metadata": {
        "id": "9-DiF1CGqUbF"
      },
      "source": [
        "#### Load model"
      ]
    },
    {
      "cell_type": "code",
      "execution_count": null,
      "metadata": {
        "id": "6s0Uwn0KqUbF"
      },
      "outputs": [],
      "source": [
        "# Load Segmentation model\n",
        "# Update version number if new version of model generated\n",
        "def load_segmentation_model(api_key=\"9pyHdiM1tENb1DwODp1M\", project_name=\"arkasegmentationproject\", version=7):\n",
        "    from roboflow import Roboflow\n",
        "    rf = Roboflow(api_key=api_key)\n",
        "    project = rf.workspace().project(project_name)\n",
        "    seg_model = project.version(version).model\n",
        "    return seg_model"
      ]
    },
    {
      "cell_type": "markdown",
      "metadata": {
        "id": "_SXfVKnrqUbF"
      },
      "source": [
        "#### Display Segmented Image & segmentation json save"
      ]
    },
    {
      "cell_type": "code",
      "execution_count": null,
      "metadata": {
        "id": "W9VCeOcHSEgW"
      },
      "outputs": [],
      "source": [
        "def outline_pred_and_json(in_path, out_dir, seg_model):\n",
        "    os.makedirs(out_dir, exist_ok=True)\n",
        "\n",
        "    seg_pred_json = seg_model.predict(in_path, confidence=50).json()\n",
        "    # f_name = os.path.splitext(os.path.basename(in_path))[0]\n",
        "    # with open(out_dir + f_name + \"_seg_pred_orig\" + \".json\", \"w\") as json_file:\n",
        "    #     json.dump(seg_pred_json, json_file)\n",
        "\n",
        "    return seg_pred_json"
      ]
    },
    {
      "cell_type": "markdown",
      "metadata": {
        "id": "P1Qqf3xzqUbF"
      },
      "source": [
        "#### Get the points dict from json"
      ]
    },
    {
      "cell_type": "code",
      "execution_count": null,
      "metadata": {
        "id": "J1bKZbeEqUbF"
      },
      "outputs": [],
      "source": [
        "\n",
        "def return_points(out_json): return out_json[\"predictions\"][0][\"points\"]"
      ]
    },
    {
      "cell_type": "markdown",
      "metadata": {
        "id": "s-krW6fPqUbF"
      },
      "source": [
        "### Douglas Peucker Polyline Simplification algorithm"
      ]
    },
    {
      "cell_type": "markdown",
      "metadata": {
        "id": "VXpgA3_lqUbF"
      },
      "source": [
        "##### Recommended epsilon values between 10 to 15"
      ]
    },
    {
      "cell_type": "code",
      "execution_count": null,
      "metadata": {
        "id": "xfJJZ2BAUrWo"
      },
      "outputs": [],
      "source": [
        "def distance(p1, p2):\n",
        "    return math.sqrt((p1['x'] - p2['x']) ** 2 + (p1['y'] - p2['y']) ** 2)\n",
        "\n",
        "\n",
        "def perpendicular_distance(point, line_start, line_end):\n",
        "    numerator = abs((line_end['y'] - line_start['y']) * point['x'] - (line_end['x'] - line_start['x'])\n",
        "                    * point['y'] + line_end['x'] * line_start['y'] - line_end['y'] * line_start['x'])\n",
        "    denominator = distance(line_start, line_end)\n",
        "    return numerator / denominator\n",
        "\n",
        "# Douglas Peucker Algorithm\n",
        "\n",
        "\n",
        "def douglas_peucker(points, epsilon):\n",
        "    if len(points) <= 2:\n",
        "        return points\n",
        "\n",
        "    dmax = 0\n",
        "    index = 0\n",
        "\n",
        "    for i in range(1, len(points) - 1):\n",
        "        d = perpendicular_distance(points[i], points[0], points[-1])\n",
        "        if d > dmax:\n",
        "            index = i\n",
        "            dmax = d\n",
        "\n",
        "    if dmax > epsilon:\n",
        "        result = (\n",
        "            douglas_peucker(points[:index + 1], epsilon)[:-1] +\n",
        "            douglas_peucker(points[index:], epsilon)\n",
        "        )\n",
        "    else:\n",
        "        result = [points[0], points[-1]]\n",
        "\n",
        "    return result"
      ]
    },
    {
      "cell_type": "markdown",
      "metadata": {
        "id": "6W6gn9ToqUbG"
      },
      "source": [
        "##### Update Roof outline json with simplified points"
      ]
    },
    {
      "cell_type": "code",
      "execution_count": null,
      "metadata": {
        "id": "jtaub4FpVYH7"
      },
      "outputs": [],
      "source": [
        "def update_seg_pred_simplified_points(seg_pred_json, simplified_points):\n",
        "    seg_pred_json[\"predictions\"][0][\"points\"] = simplified_points\n",
        "    return seg_pred_json\n",
        "\n",
        "\n",
        "def updated_seg_json(seg_pred_json, out_dir):\n",
        "    os.makedirs(out_dir, exist_ok=True)\n",
        "    img_path = seg_pred_json[\"predictions\"][0]['image_path']\n",
        "    f_name = os.path.splitext(os.path.basename(img_path))[0]\n",
        "    with open(out_dir + f_name + \"_seg_pred_simplified\" + \".json\", \"w\") as json_file:\n",
        "        json.dump(seg_pred_json, json_file)\n",
        "\n",
        "\n",
        "def print_simplified_points_img(img_path, simplified_points):\n",
        "    image = cv2.imread(img_path)\n",
        "    image_rgb = cv2.cvtColor(image, cv2.COLOR_BGR2RGB)\n",
        "\n",
        "    x_coords = [point['x'] for point in simplified_points]\n",
        "    y_coords = [point['y'] for point in simplified_points]\n",
        "\n",
        "    plt.figure(figsize=(8, 8))\n",
        "    plt.imshow(image_rgb)\n",
        "\n",
        "    plt.plot(x_coords, y_coords, '-ro', label='Simplified Path', markersize=3)\n",
        "\n",
        "    plt.plot([x_coords[-1], x_coords[0]],\n",
        "             [y_coords[-1], y_coords[0]], '-ro', markersize=3)\n",
        "\n",
        "    plt.legend()\n",
        "    plt.show()\n",
        "\n",
        "\n",
        "def print_simplified_points_img_obs(img_path, simplified_points):\n",
        "    image = cv2.imread(img_path)\n",
        "    image_rgb = cv2.cvtColor(image, cv2.COLOR_BGR2RGB)\n",
        "\n",
        "    x_coords = [point['x'] for point in simplified_points]\n",
        "    y_coords = [point['y'] for point in simplified_points]\n",
        "\n",
        "    plt.figure(figsize=(8, 8))\n",
        "    plt.imshow(image_rgb)\n",
        "\n",
        "    plt.plot(x_coords, y_coords, '-bo',\n",
        "             label=\"roof-outline + obstructions\", markersize=3)\n",
        "\n",
        "    plt.plot([x_coords[-1], x_coords[0]],\n",
        "             [y_coords[-1], y_coords[0]], '-bo', markersize=3)\n",
        "\n",
        "    plt.legend()\n",
        "    plt.show()"
      ]
    },
    {
      "cell_type": "markdown",
      "metadata": {
        "id": "O6dDJtv2qUbG"
      },
      "source": [
        "Margin: this is the pixel buffers around the bounding box"
      ]
    },
    {
      "cell_type": "code",
      "execution_count": null,
      "metadata": {
        "id": "pjQqZ-SEVYPC"
      },
      "outputs": [],
      "source": [
        "def cut_bounding_box(img_path, seg_pred_json, out_dir, margin=10):\n",
        "    image_rgb = cv2.imread(img_path)\n",
        "    for bounding_box in seg_pred_json[\"predictions\"]:\n",
        "        x0 = bounding_box['x'] - bounding_box['width'] / 2 - margin\n",
        "        x1 = bounding_box['x'] + bounding_box['width'] / 2 + margin\n",
        "        y0 = bounding_box['y'] - bounding_box['height'] / 2 - margin\n",
        "        y1 = bounding_box['y'] + bounding_box['height'] / 2 + margin\n",
        "\n",
        "        center_roof_bb = image_rgb[int(y0):int(y1), int(x0):int(x1)]\n",
        "\n",
        "    os.makedirs(out_dir, exist_ok=True)\n",
        "    f_name = os.path.basename(img_path)\n",
        "    out_path = out_dir+\"center_roof_\"+f_name\n",
        "    cv2.imwrite(out_path, center_roof_bb)\n",
        "    "
      ]
    },
    {
      "cell_type": "markdown",
      "metadata": {
        "id": "DTFSNMLdqUbG"
      },
      "source": [
        "### YOLOv8 Object Detection model for Obstruction detection"
      ]
    },
    {
      "cell_type": "markdown",
      "metadata": {
        "id": "T-S7RIJcqUbG"
      },
      "source": [
        "##### Load Obstruction detection model"
      ]
    },
    {
      "cell_type": "code",
      "execution_count": null,
      "metadata": {
        "id": "2jNv1TowVYRf"
      },
      "outputs": [],
      "source": [
        "def load_detection_model(api_key=\"9pyHdiM1tENb1DwODp1M\", project_name=\"roofobstructionsdetect\", version=11):\n",
        "    from roboflow import Roboflow\n",
        "    rf = Roboflow(api_key=api_key)\n",
        "    project = rf.workspace().project(project_name)\n",
        "    det_model = project.version(version).model\n",
        "    return det_model"
      ]
    },
    {
      "cell_type": "markdown",
      "metadata": {
        "id": "MZ8IUuZjqUbG"
      },
      "source": [
        "##### Get obstruction prediction and json"
      ]
    },
    {
      "cell_type": "code",
      "execution_count": null,
      "metadata": {
        "id": "o7b3sctGqUbG"
      },
      "outputs": [],
      "source": [
        "\n",
        "def get_obstruction_prediction_json(obs_model, img_path, out_dir):\n",
        "    obstr_preds = obs_model.predict(img_path, confidence=40, overlap=30).json()\n",
        "\n",
        "    os.makedirs(out_dir, exist_ok=True)\n",
        "    # out_path = out_dir+\"obs_\"+os.path.basename(img_path)\n",
        "    # obs_model.predict(img_path, confidence=50).save(out_path)\n",
        "    # f_name = os.path.splitext(os.path.basename(img_path))[0]\n",
        "    # with open(out_dir + f_name + \"_obs_pred\" + \".json\", \"w\") as json_file:\n",
        "    #     json.dump(obstr_preds, json_file)\n",
        "\n",
        "    return obstr_preds"
      ]
    },
    {
      "cell_type": "markdown",
      "metadata": {},
      "source": [
        "###  JSON and IMAGE functions"
      ]
    },
    {
      "cell_type": "markdown",
      "metadata": {
        "id": "oVohBDbHqUbG"
      },
      "source": [
        "##### Overlay roof outline and obstructions on the Image"
      ]
    },
    {
      "cell_type": "code",
      "execution_count": null,
      "metadata": {
        "id": "c8pGftJEqUbG"
      },
      "outputs": [],
      "source": [
        "def overlay_on_original_img(seg_pred_json, obs_pred_json, img_path, out_dir, margin=10):\n",
        "    orig_x = seg_pred_json['predictions'][0]['x'] - \\\n",
        "        seg_pred_json['predictions'][0]['width']/2 - margin\n",
        "    orig_y = seg_pred_json['predictions'][0]['y'] - \\\n",
        "        seg_pred_json['predictions'][0]['height']/2 - margin\n",
        "\n",
        "    image_rgb = cv2.imread(img_path)\n",
        "    for bounding_box in obs_pred_json[\"predictions\"]:\n",
        "        x0 = orig_x + bounding_box['x'] - bounding_box['width'] / 2\n",
        "        x1 = orig_x + bounding_box['x'] + bounding_box['width'] / 2\n",
        "        y0 = orig_y + bounding_box['y'] - bounding_box['height'] / 2\n",
        "        y1 = orig_y + bounding_box['y'] + bounding_box['height'] / 2\n",
        "\n",
        "        start_point = (int(x0), int(y0))\n",
        "        end_point = (int(x1), int(y1))\n",
        "        cv2.rectangle(image_rgb, start_point, end_point,\n",
        "                      color=(0, 0, 255), thickness=2)\n",
        "\n",
        "    os.makedirs(out_dir, exist_ok=True)\n",
        "    f_name = os.path.basename(img_path)\n",
        "    out_path = out_dir+\"final_output_\"+f_name\n",
        "    cv2.imwrite(out_path, image_rgb)"
      ]
    },
    {
      "cell_type": "markdown",
      "metadata": {
        "id": "FbMePBFpt0mL"
      },
      "source": [
        "#### Creating two JSON files"
      ]
    },
    {
      "cell_type": "markdown",
      "metadata": {},
      "source": [
        "##### Predicted segment points + obstruction bounding boxes mapped to original image"
      ]
    },
    {
      "cell_type": "code",
      "execution_count": null,
      "metadata": {
        "id": "9QZ_Bemat9o2"
      },
      "outputs": [],
      "source": [
        "def output_json_all_points_obs_orig(img_path, seg_pred_json, obs_pred_json, margin=10, out_dir=RESULTS_DIR):\n",
        "    os.makedirs(out_dir, exist_ok=True)\n",
        "\n",
        "    orig_x = seg_pred_json['predictions'][0]['x'] - \\\n",
        "        seg_pred_json['predictions'][0]['width']/2 - margin\n",
        "    orig_y = seg_pred_json['predictions'][0]['y'] - \\\n",
        "        seg_pred_json['predictions'][0]['height']/2 - margin\n",
        "\n",
        "    for i in range(len(obs_pred_json[\"predictions\"])):\n",
        "        obs_pred_json['predictions'][i]['x'] = orig_x + \\\n",
        "            obs_pred_json['predictions'][i]['x']\n",
        "        obs_pred_json['predictions'][i]['y'] = orig_y + \\\n",
        "            obs_pred_json['predictions'][i]['y']\n",
        "        obs_pred_json['predictions'][i]['image_path'] = seg_pred_json['predictions'][0]['image_path']\n",
        "\n",
        "    combined_json = {\n",
        "        'predictions': seg_pred_json['predictions'] + obs_pred_json['predictions'],\n",
        "        'image': seg_pred_json['image']\n",
        "    }\n",
        "\n",
        "    f_name = os.path.splitext(os.path.basename(img_path))[0]\n",
        "    with open(out_dir + f_name + \"_seg_obs_pred_orig\" + \".json\", \"w\") as json_file:\n",
        "        json.dump(combined_json, json_file)"
      ]
    },
    {
      "cell_type": "markdown",
      "metadata": {},
      "source": [
        "##### Simplified segment points + obstruction bounding boxes mapped to original image"
      ]
    },
    {
      "cell_type": "code",
      "execution_count": null,
      "metadata": {
        "id": "5mEoeSaYwHc_"
      },
      "outputs": [],
      "source": [
        "def output_json_all_points_obs_simplified(img_path, seg_pred_json, obs_pred_json, margin=10, out_dir=RESULTS_DIR):\n",
        "    os.makedirs(out_dir, exist_ok=True)\n",
        "\n",
        "    orig_x = seg_pred_json['predictions'][0]['x'] - \\\n",
        "        seg_pred_json['predictions'][0]['width']/2 - margin\n",
        "    orig_y = seg_pred_json['predictions'][0]['y'] - \\\n",
        "        seg_pred_json['predictions'][0]['height']/2 - margin\n",
        "\n",
        "    for i in range(len(obs_pred_json[\"predictions\"])):\n",
        "        obs_pred_json['predictions'][i]['x'] = orig_x + \\\n",
        "            obs_pred_json['predictions'][i]['x']\n",
        "        obs_pred_json['predictions'][i]['y'] = orig_y + \\\n",
        "            obs_pred_json['predictions'][i]['y']\n",
        "        obs_pred_json['predictions'][i]['image_path'] = seg_pred_json['predictions'][0]['image_path']\n",
        "\n",
        "    combined_json = {\n",
        "        'predictions': seg_pred_json['predictions'] + obs_pred_json['predictions'],\n",
        "        'image': seg_pred_json['image']\n",
        "    }\n",
        "\n",
        "    f_name = os.path.splitext(os.path.basename(img_path))[0]\n",
        "    with open(out_dir + f_name + \"_seg_obs_pred_simplified\" + \".json\", \"w\") as json_file:\n",
        "        json.dump(combined_json, json_file)"
      ]
    },
    {
      "cell_type": "markdown",
      "metadata": {
        "id": "Sik73PoewoAt"
      },
      "source": [
        "##### Check for Obstructions display"
      ]
    },
    {
      "cell_type": "code",
      "execution_count": null,
      "metadata": {
        "id": "PSRMhgGrwtEC"
      },
      "outputs": [],
      "source": [
        "def verify_obs_from_saved_json(img_path, seg_obs_pred_json):\n",
        "    image_bgr = cv2.imread(img_path)\n",
        "    image_rgb = cv2.cvtColor(image_bgr, cv2.COLOR_BGR2RGB)\n",
        "    for i in range(1, len(seg_obs_pred_json[\"predictions\"])):\n",
        "        x0 = seg_obs_pred_json[\"predictions\"][i]['x'] - \\\n",
        "            seg_obs_pred_json[\"predictions\"][i]['width'] / 2\n",
        "        x1 = seg_obs_pred_json[\"predictions\"][i]['x'] + \\\n",
        "            seg_obs_pred_json[\"predictions\"][i]['width'] / 2\n",
        "        y0 = seg_obs_pred_json[\"predictions\"][i]['y'] - \\\n",
        "            seg_obs_pred_json[\"predictions\"][i]['height'] / 2\n",
        "        y1 = seg_obs_pred_json[\"predictions\"][i]['y'] + \\\n",
        "            seg_obs_pred_json[\"predictions\"][i]['height'] / 2\n",
        "\n",
        "        start_point = (int(x0), int(y0))\n",
        "        end_point = (int(x1), int(y1))\n",
        "\n",
        "        image_rgb = cv2.rectangle(\n",
        "            image_rgb, start_point, end_point, color=(0, 255, 0), thickness=2)\n",
        "\n",
        "    plt.figure(figsize=(8, 8))\n",
        "    plt.imshow(image_rgb)"
      ]
    },
    {
      "cell_type": "markdown",
      "metadata": {
        "id": "qTRfVBiKqUbG"
      },
      "source": [
        "## All setup! Use the code below to invoke functions and get predictions\n"
      ]
    },
    {
      "cell_type": "markdown",
      "metadata": {
        "id": "HreU2bDjqUbG"
      },
      "source": [
        "#### Load segmentation and detection models"
      ]
    },
    {
      "cell_type": "code",
      "execution_count": null,
      "metadata": {
        "colab": {
          "base_uri": "https://localhost:8080/"
        },
        "id": "0NWQxHwfqUbG",
        "outputId": "5a865ca5-d6d4-466c-83e3-81325c928431"
      },
      "outputs": [],
      "source": [
        "try:\n",
        "    seg_model = load_segmentation_model()\n",
        "    obs_model = load_detection_model()\n",
        "except Exception as e:\n",
        "    raise (f\"Models didn't load properly! {e}\")"
      ]
    },
    {
      "cell_type": "markdown",
      "metadata": {
        "id": "dUZ_3JfCqUbH"
      },
      "source": [
        "#### Time the roof-outline and obstruction determination"
      ]
    },
    {
      "cell_type": "code",
      "execution_count": null,
      "metadata": {
        "id": "gOj7XYkOqUbH"
      },
      "outputs": [],
      "source": [
        "# Set the image name\n",
        "#img = IMAGES_DIR + \"12321KosichplSaratoga.jpg\"\n",
        "#img = IMAGES_DIR + \"12332ObradDrSaratoga.jpg\"\n",
        "img = IMAGES_DIR + \"701SaranacDrSunnyvale.jpg\"\n",
        "img_name = os.path.basename(img)\n",
        "\n",
        "stFull = time.time()\n",
        "# Segmentation prediction\n",
        "st = time.time()\n",
        "seg_pred_json = outline_pred_and_json(img, RESULTS_DIR, seg_model)\n",
        "et = time.time()\n",
        "print('Segmentation Execution time:', (et-st), 'seconds')\n",
        "\n",
        "# Segmentation results, proceed further only if center roof identified\n",
        "if seg_pred_json:\n",
        "    points = return_points(seg_pred_json)\n",
        "    # simplify the roof-outline predictions\n",
        "    epsilon = 5\n",
        "    st = time.time()\n",
        "    simplified_points = douglas_peucker(points, epsilon)\n",
        "    et = time.time()\n",
        "    print('Simplification Algo Execution time:', (et-st), 'seconds')\n",
        "\n",
        "    seg_simp_json = update_seg_pred_simplified_points(\n",
        "    seg_pred_json, simplified_points)\n",
        "\n",
        "    #updated_seg_json(seg_simp_json, RESULTS_DIR)\n",
        "    #print_simplified_points_img(img, simplified_points)\n",
        "\n",
        "    # Crop the center roof\n",
        "    cut_bounding_box(img, seg_pred_json, RESULTS_DIR)\n",
        "\n",
        "    # Obstruction model\n",
        "    st = time.time()\n",
        "    obs_pred_json = get_obstruction_prediction_json(\n",
        "        obs_model, RESULTS_DIR+\"center_roof_\"+img_name, RESULTS_DIR)\n",
        "    et = time.time()\n",
        "    print('Detection Execution time:', (et-st), 'seconds')\n",
        "    if not obs_pred_json:\n",
        "        print(\"Obstruction JSON is empty! Try again\")\n",
        "\n",
        "    overlay_on_original_img(seg_pred_json, obs_pred_json, img, RESULTS_DIR)\n",
        "    etFull = time.time()\n",
        "    print('Execution time:', (etFull-stFull), 'seconds')\n",
        "\n",
        "    print_simplified_points_img_obs(\n",
        "        RESULTS_DIR+\"final_output_\"+img_name, simplified_points)\n",
        "\n",
        "\n",
        "    # # Save final JSONs\n",
        "    output_json_all_points_obs_orig(\n",
        "        img, seg_pred_json, obs_pred_json)\n",
        "    \n",
        "    output_json_all_points_obs_simplified(\n",
        "        img, seg_simp_json, obs_pred_json)\n",
        "    \n",
        "    # verify the obstructions in json file\n",
        "    # f_name = os.path.splitext(os.path.basename(img))[0]\n",
        "    # print(f_name)\n",
        "    # with open(RESULTS_DIR+f_name+\"_seg_obs_pred_orig.json\", \"r\") as file2:\n",
        "    #     seg_obs_pred_orig_finaljson = json.load(file2)\n",
        "    \n",
        "    # verify_obs_from_saved_json(img, seg_obs_pred_orig_finaljson)\n",
        "    \n",
        "else:\n",
        "    print(\"Segmentation Prediction JSON is empty! Try again\")\n"
      ]
    },
    {
      "cell_type": "markdown",
      "metadata": {},
      "source": [
        "### Use the code block down below to obtain JSON"
      ]
    },
    {
      "cell_type": "code",
      "execution_count": null,
      "metadata": {},
      "outputs": [],
      "source": [
        "# Set the image name\n",
        "#img = IMAGES_DIR + \"1610FilareeCtCarlsbad.jpg\"\n",
        "#img = IMAGES_DIR + \"18681KosichDrSaratoga.jpg\"\n",
        "#img = IMAGES_DIR + \"Fremont_530.jpg\"\n",
        "img = IMAGES_DIR + \"12332ObradDrSaratoga.jpg\"\n",
        "#img = IMAGES_DIR + \"701SaranacDrSunnyvale.jpg\"\n",
        "img_name = os.path.basename(img)\n",
        "\n",
        "\n",
        "seg_pred_json = outline_pred_and_json(img, RESULTS_DIR, seg_model)\n",
        "\n",
        "# Segmentation results, proceed further only if center roof identified\n",
        "if seg_pred_json: \n",
        "    points = return_points(seg_pred_json) \n",
        "    # Crop the center roof\n",
        "    cut_bounding_box(img, seg_pred_json, RESULTS_DIR)\n",
        "\n",
        "    # Obstruction model\n",
        "    \n",
        "    obs_pred_json = get_obstruction_prediction_json(\n",
        "        obs_model, RESULTS_DIR+\"center_roof_\"+img_name, RESULTS_DIR)\n",
        "    \n",
        "    if not obs_pred_json:\n",
        "        print(\"Obstruction JSON is empty! Try again\")\n",
        "\n",
        "    overlay_on_original_img(seg_pred_json, obs_pred_json, img, RESULTS_DIR)\n",
        "    \n",
        "\n",
        "    print_simplified_points_img_obs(\n",
        "        RESULTS_DIR+\"final_output_\"+img_name, points)\n",
        "\n",
        "\n",
        "    # # Save final JSONs\n",
        "    output_json_all_points_obs_orig(\n",
        "        img, seg_pred_json, obs_pred_json)\n",
        "    \n",
        "    \n",
        "    \n",
        "else:\n",
        "    print(\"Segmentation Prediction JSON is empty! Try again\")"
      ]
    }
  ],
  "metadata": {
    "accelerator": "GPU",
    "colab": {
      "include_colab_link": true,
      "provenance": []
    },
    "gpuClass": "standard",
    "kernelspec": {
      "display_name": "Python 3",
      "name": "python3"
    },
    "language_info": {
      "codemirror_mode": {
        "name": "ipython",
        "version": 3
      },
      "file_extension": ".py",
      "mimetype": "text/x-python",
      "name": "python",
      "nbconvert_exporter": "python",
      "pygments_lexer": "ipython3",
      "version": "3.9.5"
    }
  },
  "nbformat": 4,
  "nbformat_minor": 0
}
